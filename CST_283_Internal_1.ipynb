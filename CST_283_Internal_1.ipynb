{
  "nbformat": 4,
  "nbformat_minor": 0,
  "metadata": {
    "colab": {
      "name": "Assignment 1",
      "provenance": [],
      "authorship_tag": "ABX9TyNVIEQhGnmu1cee5MNDPyi/",
      "include_colab_link": true
    },
    "kernelspec": {
      "name": "python3",
      "display_name": "Python 3"
    }
  },
  "cells": [
    {
      "cell_type": "markdown",
      "metadata": {
        "id": "view-in-github",
        "colab_type": "text"
      },
      "source": [
        "<a href=\"https://colab.research.google.com/github/chavan-nj/Class-Assignment-1---Getting-Started-with-Python-Programming/blob/master/CST_283_Internal_1.ipynb\" target=\"_parent\"><img src=\"https://colab.research.google.com/assets/colab-badge.svg\" alt=\"Open In Colab\"/></a>"
      ]
    },
    {
      "cell_type": "markdown",
      "metadata": {
        "id": "_lKXeYaDWu9K"
      },
      "source": [
        "Q)2"
      ]
    },
    {
      "cell_type": "code",
      "metadata": {
        "id": "vjPG4sqNWv_f",
        "outputId": "c1701ce0-dcf0-4ff9-9c82-7a86bd99ac05",
        "colab": {
          "base_uri": "https://localhost:8080/",
          "height": 158
        }
      },
      "source": [
        "name = input(\"Enter your name:\")\n",
        " \n",
        "address = input(\"Enter your address:\")\n",
        " \n",
        "number = input(\"Enter your telephone number:\")\n",
        " \n",
        "print(\"Your details are:\", name, address, number, sep=\"\\n\")"
      ],
      "execution_count": null,
      "outputs": [
        {
          "output_type": "stream",
          "text": [
            "Enter your name:Chavan N J\n",
            "Enter your address:Kasaragod,kerala\n",
            "Enter your telephone number:0994 23456\n",
            "Your details are:\n",
            "Chavan N J\n",
            "Kasaragod,kerala\n",
            "0994 23456\n"
          ],
          "name": "stdout"
        }
      ]
    },
    {
      "cell_type": "markdown",
      "metadata": {
        "id": "Cq5WXPhXXNBp"
      },
      "source": [
        "Q)3"
      ]
    },
    {
      "cell_type": "code",
      "metadata": {
        "id": "haK1uSqadEqZ",
        "outputId": "97f1fb5c-c75c-433b-dc19-70573267a04d",
        "colab": {
          "base_uri": "https://localhost:8080/",
          "height": 34
        }
      },
      "source": [
        "print(\"Your name is\",Name)"
      ],
      "execution_count": null,
      "outputs": [
        {
          "output_type": "stream",
          "text": [
            "Your name is Chavan\n"
          ],
          "name": "stdout"
        }
      ]
    },
    {
      "cell_type": "code",
      "metadata": {
        "id": "m3oPJmpVdSMk"
      },
      "source": [
        "Name=\"Chavan N J\""
      ],
      "execution_count": null,
      "outputs": []
    },
    {
      "cell_type": "markdown",
      "metadata": {
        "id": "oVtwqfTsyTKs"
      },
      "source": [
        "Q)4"
      ]
    },
    {
      "cell_type": "code",
      "metadata": {
        "id": "64teDjNGyU1x",
        "outputId": "41e59f10-db00-4fe1-ba82-2036cca87bdd",
        "colab": {
          "base_uri": "https://localhost:8080/",
          "height": 69
        }
      },
      "source": [
        " \n",
        "#Rectangle Area\n",
        "Width = int(input(\"Enter the width: \")) \n",
        "Height = int(input(\"Enter the height: \")) \n",
        "Area =Width * Height\n",
        "print(\"The area is\",Area, \"Square units\")"
      ],
      "execution_count": null,
      "outputs": [
        {
          "output_type": "stream",
          "text": [
            "Enter the width: 5\n",
            "Enter the height: 10\n",
            "The area is 50 Square units\n"
          ],
          "name": "stdout"
        }
      ]
    },
    {
      "cell_type": "markdown",
      "metadata": {
        "id": "Kh5Sk0nbypE-"
      },
      "source": [
        "Q)5"
      ]
    },
    {
      "cell_type": "code",
      "metadata": {
        "id": "FLAOVPdXysE3",
        "outputId": "31fdfcea-d772-4280-c3d2-3a8104e84519",
        "colab": {
          "base_uri": "https://localhost:8080/",
          "height": 69
        }
      },
      "source": [
        " \n",
        "#Triangle Area\n",
        "Base= int(input(\"Enter the base: \"))\n",
        "Height= int(input(\"Enter the height: \")) \n",
        "Area = .5*Base*Height\n",
        "print(\"The area is\",Area, \"square units\")"
      ],
      "execution_count": null,
      "outputs": [
        {
          "output_type": "stream",
          "text": [
            "Enter the base: 3\n",
            "Enter the height: 4\n",
            "The area is 6.0 square units\n"
          ],
          "name": "stdout"
        }
      ]
    },
    {
      "cell_type": "markdown",
      "metadata": {
        "id": "nMqH9NMVy3tT"
      },
      "source": [
        "Q)6"
      ]
    },
    {
      "cell_type": "code",
      "metadata": {
        "id": "OmOo5YHty5Cq",
        "outputId": "6bd6a83f-4c45-4c40-93e5-779376b8a4d8",
        "colab": {
          "base_uri": "https://localhost:8080/",
          "height": 51
        }
      },
      "source": [
        " \n",
        "#Circle Area\n",
        "Radius = int(input(\"Enter the radius: \")) \n",
        "Area = 3.14*Radius**2\n",
        "print(\"The area is\", Area, \"square units\")"
      ],
      "execution_count": null,
      "outputs": [
        {
          "output_type": "stream",
          "text": [
            "Enter the radius: 9\n",
            "The area is 254.34 square units\n"
          ],
          "name": "stdout"
        }
      ]
    },
    {
      "cell_type": "markdown",
      "metadata": {
        "id": "GiFt7SQtzHVc"
      },
      "source": [
        "Q)7"
      ]
    },
    {
      "cell_type": "code",
      "metadata": {
        "id": "NcVsE1KNzIrv",
        "outputId": "05f65062-f07d-46b5-9a88-c624df5d446d",
        "colab": {
          "base_uri": "https://localhost:8080/",
          "height": 89
        }
      },
      "source": [
        " \n",
        "Name = input(\"Enter your name: \") \n",
        "Age =input(\"Enter your age: \") \n",
        "print(\"My name is \"+Name+\" and my age is \"+Age)"
      ],
      "execution_count": null,
      "outputs": [
        {
          "output_type": "stream",
          "text": [
            "Enter your name: Chavan\n",
            "Enter your age: 19\n",
            "My name is Chavan and my age is 19\n"
          ],
          "name": "stdout"
        }
      ]
    },
    {
      "cell_type": "markdown",
      "metadata": {
        "id": "eVvMsS_3zSGl"
      },
      "source": [
        "Q)8"
      ]
    },
    {
      "cell_type": "code",
      "metadata": {
        "id": "HUUq51w3zT7n",
        "outputId": "e4eaf5a5-0265-4d2e-9220-591fb57ebb96",
        "colab": {
          "base_uri": "https://localhost:8080/",
          "height": 51
        }
      },
      "source": [
        " \n",
        "K=int(input(\"Enter a number: \")) \n",
        "K=K+1\n",
        "print(K)"
      ],
      "execution_count": null,
      "outputs": [
        {
          "output_type": "stream",
          "text": [
            "Enter a number: 7\n",
            "8\n"
          ],
          "name": "stdout"
        }
      ]
    },
    {
      "cell_type": "markdown",
      "metadata": {
        "id": "RVhQ_BEfziAK"
      },
      "source": [
        "Q)9"
      ]
    },
    {
      "cell_type": "code",
      "metadata": {
        "id": "0pZKAVzZzj5n",
        "outputId": "9549ed51-c7ca-4f68-f0b0-ffbeb082a503",
        "colab": {
          "base_uri": "https://localhost:8080/",
          "height": 52
        }
      },
      "source": [
        " input(\"Enter your first name: \")"
      ],
      "execution_count": null,
      "outputs": [
        {
          "output_type": "stream",
          "text": [
            "Enter your first name: Chavan\n"
          ],
          "name": "stdout"
        },
        {
          "output_type": "execute_result",
          "data": {
            "application/vnd.google.colaboratory.intrinsic+json": {
              "type": "string"
            },
            "text/plain": [
              "'Chavan'"
            ]
          },
          "metadata": {
            "tags": []
          },
          "execution_count": 43
        }
      ]
    }
  ]
}